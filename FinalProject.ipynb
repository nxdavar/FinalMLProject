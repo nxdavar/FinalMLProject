{
 "cells": [
  {
   "cell_type": "markdown",
   "id": "62e7e44f",
   "metadata": {},
   "source": [
    "# Final ML Project\n",
    "## Daniel Bernal, Raymond Vuong, Rohit Punjani, and Neal Davar \n"
   ]
  },
  {
   "cell_type": "code",
   "execution_count": 21,
   "id": "a208641d",
   "metadata": {},
   "outputs": [
    {
     "name": "stdout",
     "output_type": "stream",
     "text": [
      "1460\n",
      "   MSSubClass  LotFrontage  LotArea  OverallQual  OverallCond  YearBuilt  \\\n",
      "0          60         65.0     8450            7            5       2003   \n",
      "1          20         80.0     9600            6            8       1976   \n",
      "2          60         68.0    11250            7            5       2001   \n",
      "3          70         60.0     9550            7            5       1915   \n",
      "4          60         84.0    14260            8            5       2000   \n",
      "\n",
      "   YearRemodAdd  MasVnrArea  BsmtFinSF1  BsmtFinSF2  ...  SaleType_ConLI  \\\n",
      "0          2003       196.0         706           0  ...               0   \n",
      "1          1976         0.0         978           0  ...               0   \n",
      "2          2002       162.0         486           0  ...               0   \n",
      "3          1970         0.0         216           0  ...               0   \n",
      "4          2000       350.0         655           0  ...               0   \n",
      "\n",
      "   SaleType_ConLw  SaleType_New  SaleType_Oth  SaleType_WD  \\\n",
      "0               0             0             0            1   \n",
      "1               0             0             0            1   \n",
      "2               0             0             0            1   \n",
      "3               0             0             0            1   \n",
      "4               0             0             0            1   \n",
      "\n",
      "   SaleCondition_AdjLand  SaleCondition_Alloca  SaleCondition_Family  \\\n",
      "0                      0                     0                     0   \n",
      "1                      0                     0                     0   \n",
      "2                      0                     0                     0   \n",
      "3                      0                     0                     0   \n",
      "4                      0                     0                     0   \n",
      "\n",
      "   SaleCondition_Normal  SaleCondition_Partial  \n",
      "0                     1                      0  \n",
      "1                     1                      0  \n",
      "2                     1                      0  \n",
      "3                     0                      0  \n",
      "4                     1                      0  \n",
      "\n",
      "[5 rows x 261 columns]\n",
      "these are the anomalies:\n",
      "[1 1 1 ... 1 1 1]\n"
     ]
    }
   ],
   "source": [
    "import pandas as pd\n",
    "import numpy as np\n",
    "import matplotlib.pyplot as plt\n",
    "import seaborn as sns\n",
    "from sklearn import preprocessing\n",
    "from sklearn.model_selection import train_test_split\n",
    "from sklearn.linear_model import LogisticRegression\n",
    "from sklearn.metrics import accuracy_score\n",
    "from sklearn.metrics import confusion_matrix\n",
    "from sklearn.ensemble import IsolationForest\n",
    "\n",
    "\n",
    "training = pd.read_csv(\"train.csv\")\n",
    "\n",
    "print(len(training))\n",
    "\n",
    "# 1. Data Cleaning:\n",
    "\n",
    "training.drop('Id', axis=1, inplace=True)\n",
    "# fillna on the basis of whether MasVnrArea, LotFrontage, or any other categorical feature with na values\n",
    "training['MasVnrArea'].fillna(0, inplace=True)\n",
    "training['LotFrontage'].fillna(0, inplace=True)\n",
    "training['GarageYrBlt'].fillna(training['GarageYrBlt'].mean(), inplace=True)\n",
    "training.fillna('None', inplace=True)\n",
    "\n",
    "# drop duplicates:\n",
    "training.drop_duplicates(keep=False, inplace=True)\n",
    "\n",
    "# one hot encoding categorical variables:\n",
    "training = pd.get_dummies(training, columns=['MSZoning', 'Street', 'Alley', 'LotShape', 'LandContour', 'Utilities', 'LotConfig', 'LandSlope', 'Neighborhood', 'Condition1', 'Condition2', 'BldgType', 'HouseStyle', 'RoofStyle', 'RoofMatl', 'Exterior1st', 'Exterior2nd', 'MasVnrType', 'ExterQual', 'ExterCond', 'Foundation', 'BsmtQual', 'BsmtCond', 'BsmtExposure', 'BsmtFinType1', 'BsmtFinType2', 'Heating', 'HeatingQC', 'CentralAir', 'Electrical', 'KitchenQual', 'Functional', 'FireplaceQu', 'GarageType', 'GarageFinish', 'GarageQual', 'GarageCond', 'PavedDrive', 'PoolQC', 'Fence', 'MiscFeature', 'SaleType', 'SaleCondition'], drop_first=True)\n",
    "\n",
    "# use isolation forests to find potential outliers: \n",
    "anomalies = IsolationForest().fit_predict(training)\n",
    "print('these are the anomalies:')\n",
    "print(anomalies)\n",
    "\n",
    "\n",
    "\n",
    "\n",
    "# 2. Feature Engineering:\n",
    "\n",
    "# TODO: scale the data down \n",
    "\n",
    "# TODO: use PCA to reduce overall dimensionality\n",
    "\n",
    "# TODO: SMOTE for regression to manage class imbalances\n",
    "\n",
    "# training.corr()['SalePrice'].sort_values(ascending=False).plot(kind='barh', figsize=(20,10))\n",
    "# plt.show()\n",
    "\n",
    "\n",
    "\n"
   ]
  },
  {
   "cell_type": "code",
   "execution_count": null,
   "id": "467b2edb",
   "metadata": {},
   "outputs": [],
   "source": []
  },
  {
   "cell_type": "code",
   "execution_count": null,
   "id": "129549a1",
   "metadata": {},
   "outputs": [],
   "source": []
  }
 ],
 "metadata": {
  "kernelspec": {
   "display_name": "base",
   "language": "python",
   "name": "python3"
  },
  "language_info": {
   "codemirror_mode": {
    "name": "ipython",
    "version": 3
   },
   "file_extension": ".py",
   "mimetype": "text/x-python",
   "name": "python",
   "nbconvert_exporter": "python",
   "pygments_lexer": "ipython3",
   "version": "3.8.5"
  },
  "vscode": {
   "interpreter": {
    "hash": "c66eea1c4c7bb61b575e87dc258962edfd54bd0f6a298796fe44c73819b6ab09"
   }
  }
 },
 "nbformat": 4,
 "nbformat_minor": 5
}
